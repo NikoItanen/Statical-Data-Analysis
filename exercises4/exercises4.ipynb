{
 "cells": [
  {
   "cell_type": "markdown",
   "id": "7fd1f062",
   "metadata": {},
   "source": [
    "# Exercises: 4\n",
    "\n",
    "This document contains all my solutions to Exercises 3 of the Statical Data Analysis course at the University of Turku."
   ]
  },
  {
   "cell_type": "code",
   "execution_count": 197,
   "id": "24a15d83",
   "metadata": {},
   "outputs": [],
   "source": [
    "# Import all the necessary libraries\n",
    "import numpy as np\n",
    "import pandas as pd\n",
    "import scipy.stats as stats"
   ]
  },
  {
   "cell_type": "markdown",
   "id": "8b7ca95b",
   "metadata": {},
   "source": [
    "## 1. Two-variable tests with toy data\n",
    "\n",
    "• Consider the following three variables:\n",
    "\n",
    "– A: 34, 23, 51, 47, 34\n",
    "\n",
    "– B: 48, 27, 33, 45, 41, 35\n",
    "\n",
    "– C: 34, 53, 54, 28, 52, 29\n",
    "\n",
    "• Choose suitable statistical tests to compare pairs A&B, A&C and B&C. Justify your choices. What hypotheses\n",
    "do the tests concern?\n",
    "\n",
    "• Calculate the P-values. What can you conclude based on the observed p-values?\n",
    "\n",
    "• The description of the data is deliberately vague. Can you come up with other plausible tests for each pair?"
   ]
  },
  {
   "cell_type": "markdown",
   "id": "df89d2ba",
   "metadata": {},
   "source": [
    "### Solution:"
   ]
  },
  {
   "cell_type": "code",
   "execution_count": 198,
   "id": "ee1c60c2",
   "metadata": {},
   "outputs": [
    {
     "name": "stdout",
     "output_type": "stream",
     "text": [
      "0.6185050948808057\n",
      "0.8776995343877765\n",
      "0.04821299036621731\n"
     ]
    }
   ],
   "source": [
    "# Calculate the P-values for all three variables\n",
    "a = pd.Series([34, 23, 51, 47, 34])\n",
    "b = pd.Series([48, 27, 33, 45, 41, 35])\n",
    "c = pd.Series([34, 53, 54, 28, 52, 29])\n",
    "\n",
    "print(stats.shapiro(a).pvalue)\n",
    "print(stats.shapiro(b).pvalue)\n",
    "print(stats.shapiro(c).pvalue)"
   ]
  },
  {
   "cell_type": "markdown",
   "id": "d9ea1573",
   "metadata": {},
   "source": [
    "Since the P-values A and B are greater than 0.05, we do not have sufficient evidence to reject the null hypothesis that the variables are normally distributed. On the other hand, C does not appear to be normally distributed because its P-value is less than 0.05.\n",
    "\n",
    "Since variables A and B appear to be normally distributed, we can use the T-test to compare these variables. But since variable C is not normally distributed, we have to use a non-parametric test, such as the Mann-Whitney U test.\n",
    "\n",
    "An unpaired T-test is used to determine the difference between the means. Wilcoxon's tests examine overall differences."
   ]
  },
  {
   "cell_type": "markdown",
   "id": "380c9a2c",
   "metadata": {},
   "source": [
    "#### Testing"
   ]
  },
  {
   "cell_type": "code",
   "execution_count": 199,
   "id": "f4a69c38",
   "metadata": {},
   "outputs": [
    {
     "name": "stdout",
     "output_type": "stream",
     "text": [
      "0.9507932942353805\n",
      "0.5189924682098411\n",
      "0.5887445887445888\n",
      "0.6875\n"
     ]
    }
   ],
   "source": [
    "# Print the P-values for the t-test and Mann-Whitney U test\n",
    "print(stats.ttest_ind(a, b).pvalue)\n",
    "print(stats.mannwhitneyu(a, c, use_continuity=True).pvalue)\n",
    "\n",
    "# If B and C are unpaired, then the Mann-Whitney U test is the most appropriate test to use\n",
    "print(stats.mannwhitneyu(b, c, use_continuity=True).pvalue)\n",
    "\n",
    "# If B and C are paired, then the Wilcoxon signed-rank test is the most appropriate test to use\n",
    "print(stats.wilcoxon(b, c, correction=True).pvalue)"
   ]
  },
  {
   "cell_type": "markdown",
   "id": "1ded407b",
   "metadata": {},
   "source": [
    " - The first P-value of the T-test for variables A and B indicates that there is no statistically significant difference between the means of variables A and B.\n",
    "\n",
    "- The second P-value of the Mann-Whitney U-test for A and C indicates that there is no statistically significant difference between the distributions of variables A and C.\n",
    "\n",
    "- The third P-value is greater than the significance level, suggesting that there is no significant difference between B and C.\n",
    "\n",
    "- The last P-value, again greater than the significance level, suggests that there is no significance between the paired observations of B and C.\n",
    "\n",
    "- There is no evidence that the means of A and B are different, that the values of one distribution (A vs. C or B vs. C) tend to be greater or lower than the values of the other distribution, or that the differences between the paired values (B and C) tend to be consistently positive or negative."
   ]
  },
  {
   "cell_type": "markdown",
   "id": "9a08bca7",
   "metadata": {},
   "source": [
    "#### Correlation analysis"
   ]
  },
  {
   "cell_type": "code",
   "execution_count": 200,
   "id": "dab18402",
   "metadata": {},
   "outputs": [
    {
     "name": "stdout",
     "output_type": "stream",
     "text": [
      "PearsonRResult(statistic=np.float64(0.2863416904159343), pvalue=np.float64(0.6404636813991917))\n",
      "SignificanceResult(statistic=np.float64(0.05129891760425771), pvalue=np.float64(0.934712848108234))\n",
      "SignificanceResult(statistic=np.float64(-0.6571428571428573), pvalue=np.float64(0.15617492711370237))\n"
     ]
    }
   ],
   "source": [
    "# Add nan value to the A series to make it have same length as B and C\n",
    "a = pd.Series([34, 23, 51, 47, 34, np.nan])\n",
    "\n",
    "# Calculate Pearson's correlation coefficient for normally distributed data\n",
    "ok = ~np.isnan(a) & ~np.isnan(b) # Remove nan values from the data\n",
    "\n",
    "print(stats.pearsonr(a[ok], b[ok])) # Based on previous tests, A and B appear to be normally distributed.\n",
    "\n",
    "# Calculate Spearman's correlation coefficient for non-normally distributed data\n",
    "ok = ~np.isnan(a) & ~np.isnan(c) # Remove nan values from the data\n",
    "\n",
    "print(stats.spearmanr(a[ok], c[ok])) # Based on previous tests, C appear to be non-normally distributed.\n",
    "print(stats.spearmanr(b, c))"
   ]
  },
  {
   "cell_type": "markdown",
   "id": "074ed2c0",
   "metadata": {},
   "source": [
    "When we look at the p-values of the correlation analysis, we see that all p-values are greater than 0.05, which means that there is no evidence of a correlation between these variables."
   ]
  },
  {
   "cell_type": "markdown",
   "id": "da2ba961",
   "metadata": {},
   "source": [
    "## 2. More two-variable tests\n",
    "\n",
    "The same property was measured before medication (test) and after medication (re-test) for two groups of\n",
    "individuals (D and E).\n",
    "\n",
    "• Group D\n",
    "\n",
    "– test: 5.6, 3.1, 8.7, 4.5, 6.7, 4.5\n",
    "\n",
    "– re-test: 6.1, 5.8, 8.5, 5.3, 7.2, 5.1\n",
    "\n",
    "• Group E\n",
    "\n",
    "– test: 4.5, 3.9, 7.1, 4.3, 6.9, 8.2, 7.6\n",
    "\n",
    "– re-test: 4.9, 4.7, 7.8, 4.8, 7.5, 7.8, 8.1\n",
    "\n",
    "Select the correct statistical tests to compare the following pairs and calculate the P-values. What hypotheses\n",
    "do the tests concern? What can you conclude based on the observed p-values?\n",
    "\n",
    "• test and re-test within group D\n",
    "\n",
    "• test and re-test within group E\n",
    "\n",
    "• test between groups D and E\n",
    "\n",
    "• re-test between groups D and E"
   ]
  },
  {
   "cell_type": "markdown",
   "id": "15d4b64c",
   "metadata": {},
   "source": [
    "### Solution:"
   ]
  },
  {
   "cell_type": "code",
   "execution_count": 201,
   "id": "23c6fa05",
   "metadata": {},
   "outputs": [
    {
     "name": "stdout",
     "output_type": "stream",
     "text": [
      "0.8002394946806008\n",
      "0.3768611442017307\n",
      "0.16666537264976417\n",
      "0.014585478888414122\n"
     ]
    }
   ],
   "source": [
    "# Create a Series for the data\n",
    "\n",
    "# Group D\n",
    "d_test = pd.Series([5.6, 3.1, 8.7, 4.5, 6.7, 4.5])\n",
    "d_retest = pd.Series([6.1, 5.8, 8.5, 5.3, 7.2, 5.1])\n",
    "\n",
    "# Group E\n",
    "e_test = pd.Series([4.5, 3.9, 7.1, 4.3, 6.9, 8.2, 7.6])\n",
    "e_retest = pd.Series([4.9, 4.7, 7.8, 4.8, 7.5, 7.8, 8.1])\n",
    "\n",
    "# Calculate the P-values for the D group's test and retest by using the Shapiro-Wilk test\n",
    "print(stats.shapiro(d_test).pvalue)\n",
    "print(stats.shapiro(d_retest).pvalue)\n",
    "\n",
    "# Calculate the P-values for the E group's test and retest by using the Shapiro-Wilk test\n",
    "print(stats.shapiro(e_test).pvalue)\n",
    "print(stats.shapiro(e_retest).pvalue)"
   ]
  },
  {
   "cell_type": "markdown",
   "id": "fb9a3a4e",
   "metadata": {},
   "source": [
    "Group D:\n",
    "\n",
    "The test set is likely to be normally distributed because the P-value is greater than the 0.05 significance level.\n",
    "The P-value of the retest set suggests that there is evidence that it is also normally distributed.\n",
    "\n",
    "Group E:\n",
    "\n",
    "The P-value of the test series for Group E suggests that there is evidence that it is normally distributed.\n",
    "The P-value of the retest of Group E suggests that most of it is very unlikely to be normally distributed."
   ]
  },
  {
   "cell_type": "markdown",
   "id": "1b6d33d8",
   "metadata": {},
   "source": [
    "#### Testing"
   ]
  },
  {
   "cell_type": "code",
   "execution_count": 202,
   "id": "8b332afb",
   "metadata": {},
   "outputs": [
    {
     "name": "stdout",
     "output_type": "stream",
     "text": [
      "0.09740501217589806\n",
      "0.03125\n",
      "0.6040909505950958\n",
      "0.9429784240576059\n"
     ]
    }
   ],
   "source": [
    "# Calculate the P-value for paired and normally distributed by using the t-test\n",
    "print(stats.ttest_rel(d_test, d_retest).pvalue)\n",
    "\n",
    "# Calculate the P-value for paired and non-normally distributed by using the Wilcoxon signed-rank test\n",
    "print(stats.wilcoxon(e_test, e_retest, correction=True).pvalue)\n",
    "\n",
    "# Calculate the P-value for unpaired and normally distributed by using the t-test\n",
    "print(stats.ttest_ind(d_test, e_test).pvalue)\n",
    "\n",
    "# Calculate the P-value for unpaired and non-normally distributed by using the Mann-Whitney U test\n",
    "print(stats.mannwhitneyu(d_retest, e_retest, use_continuity=True).pvalue)"
   ]
  },
  {
   "cell_type": "markdown",
   "id": "4645d555",
   "metadata": {},
   "source": [
    "1. The P-value of paired and normally distributed values suggests that there are no significant differences between the means of d_test and d_retest. Since the P-value is above 0.05, we cannot reject the null hypothesis.\n",
    "\n",
    "2. The P-value of the paired and non-normally distributed series is less than 0.05, suggesting that we have sufficient evidence to reject the null hypothesis. This means that there is a statistically large difference between the values of e_test and e_retest.\n",
    "\n",
    "3. The P-value of the unpaired and normally distributed series is greater than 0.05, suggesting that there is no significant difference between the values of d_test and e_test. We cannot reject the null hypothesis.\n",
    "\n",
    "4. The P-value of unpaired and non-normally distributed series has a value greater than 0.05, suggesting that there are no significance differences between the values of d_retest and e_retest."
   ]
  },
  {
   "cell_type": "markdown",
   "id": "184c55e8",
   "metadata": {},
   "source": [
    "## 3. More two-variable tests (continues)\n",
    "Consider the group E test and re-test from the earlier exercise.\n",
    "\n",
    "• Calculate the Pearson correlation coefficient and its P-value.\n",
    "\n",
    "• Calculate the Spearman correlation coefficient and its P-value.\n",
    "\n",
    "• What hypotheses do the tests concern? What can you conclude based on the observed p-values?\n"
   ]
  },
  {
   "cell_type": "markdown",
   "id": "4c3e33e7",
   "metadata": {},
   "source": [
    "### Solution:"
   ]
  },
  {
   "cell_type": "code",
   "execution_count": 203,
   "id": "35117e9a",
   "metadata": {},
   "outputs": [
    {
     "name": "stdout",
     "output_type": "stream",
     "text": [
      "PearsonRResult(statistic=np.float64(0.9773664314916523), pvalue=np.float64(0.00014623458861244028))\n",
      "SignificanceResult(statistic=np.float64(0.8116794499134278), pvalue=np.float64(0.04985758510134042))\n"
     ]
    }
   ],
   "source": [
    "# Calculate the Pearson's correlation coefficient for group E test and retest\n",
    "print(stats.pearsonr(e_test, e_retest))\n",
    "\n",
    "# Calculate the Spearman's correlation coefficient for group D test and retest\n",
    "print(stats.spearmanr(d_test, d_retest))"
   ]
  },
  {
   "cell_type": "markdown",
   "id": "6000e0ae",
   "metadata": {},
   "source": [
    "The P-value of Pearson's correlation test shows a very low value of 0.0001, which obviously suggests that there are significant correlation between these variables. This value rejects the null hypothesis.\n",
    "\n",
    "The P-value of Spearman's correlation on the other hand has greater value of 0.0498.., but it is still lower than the significance level, which also suggests that there are statistically significant monotonic correlation between these variables. This value also rejects the null hypothesis."
   ]
  },
  {
   "cell_type": "markdown",
   "id": "b1fe123e",
   "metadata": {},
   "source": [
    "## 4. Advertisements\n",
    "An advertisement company followed online customers to discover how effectively advertisements lure them to\n",
    "spend money. The data files ads-image.csv and ads-video.csv contain information on how much customers\n",
    "spent in total after clicking on advertisements.\n",
    "\n",
    "• Is there statistical evidence to claim that the total amount spent by customers is different if they click on\n",
    "image advertisements than on video advertisements?\n",
    "\n",
    "• Explain the assumptions you made about how the data was collected and how it affected your choice of\n",
    "the test.\n"
   ]
  },
  {
   "cell_type": "code",
   "execution_count": 204,
   "id": "1c118c4d",
   "metadata": {},
   "outputs": [
    {
     "name": "stdout",
     "output_type": "stream",
     "text": [
      "         images         video\n",
      "0  8.639192e-01  8.312029e-01\n",
      "1  2.655470e-11  8.710116e-13\n",
      "0.0029363010519546508\n",
      "0.45540926833257467\n",
      "0.25403508064753777\n"
     ]
    },
    {
     "data": {
      "image/png": "[encoded data removed]",
      "text/plain": [
       "<Figure size 640x480 with 1 Axes>"
      ]
     },
     "metadata": {},
     "output_type": "display_data"
    }
   ],
   "source": [
    "# Load the data files\n",
    "images = pd.read_csv('data/ads-image.csv')\n",
    "videos = pd.read_csv('data/ads-video.csv')\n",
    "\n",
    "# Merge the two data files\n",
    "data = pd.merge(images, videos, on='person_id', how='outer')\n",
    "data.rename({'amount_spent_x': 'images', 'amount_spent_y': 'video'}, axis=1, inplace=True)\n",
    "\n",
    "data\n",
    "\n",
    "# Remove the rows with missing values\n",
    "data_clean = data.copy()\n",
    "data_clean.dropna(inplace=True)\n",
    "data_clean['difference'] = data_clean.images - data_clean.video  # Calculate the difference between the two variables\n",
    "data_clean.difference.plot.hist(bins=30)  # Plot the histogram of the difference variable\n",
    "\n",
    "# Calculate the P-values for the images and video variables by using the Shapiro-Wilk test\n",
    "print(data_clean[['images', 'video']].apply(stats.shapiro))\n",
    "print(stats.shapiro(data_clean['difference']).pvalue)\n",
    "\n",
    "# Calculate the P-value for paired and normally distributed by using the t-test\n",
    "print(stats.ttest_rel(data_clean.images, data_clean.video).pvalue)\n",
    "\n",
    "# Calculate the P-value for paired and non-normally distributed by using the Wilcoxon signed-rank test\n",
    "print(stats.wilcoxon(data_clean.images, data_clean.video, correction=True).pvalue)"
   ]
  },
  {
   "cell_type": "markdown",
   "id": "8d678e6d",
   "metadata": {},
   "source": [
    "By looking the P-value of Shapiro-Wilk test, we can see that it is greater than the significancy level of 0.05, which suggest that the merged data is most likely normally distributed. This P-value cannot reject the null hypothesis.\n",
    "\n",
    "When we are doing the T-test for the set, we can see that the P-value is grater than 0.05, which tells us that the there are no significant differences between values. \n",
    "\n",
    "As well the Wilcoxon ranking test shows that the P-value is greater than 0.05, which suggest that there are no statistically differences between these values."
   ]
  }
 ],
 "metadata": {
  "kernelspec": {
   "display_name": "Python 3",
   "language": "python",
   "name": "python3"
  },
  "language_info": {
   "codemirror_mode": {
    "name": "ipython",
    "version": 3
   },
   "file_extension": ".py",
   "mimetype": "text/x-python",
   "name": "python",
   "nbconvert_exporter": "python",
   "pygments_lexer": "ipython3",
   "version": "3.12.6"
  }
 },
 "nbformat": 4,
 "nbformat_minor": 5
}
