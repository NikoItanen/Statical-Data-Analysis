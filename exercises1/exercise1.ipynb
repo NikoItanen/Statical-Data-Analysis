{
 "cells": [
  {
   "cell_type": "markdown",
   "id": "d050c53c",
   "metadata": {},
   "source": [
    "# Exercises: 1\n",
    "\n",
    "This document contains all my solutions to Exercises 1 of the Statical Data Analysis course at the University of Turku."
   ]
  },
  {
   "cell_type": "markdown",
   "id": "4c7a8934",
   "metadata": {},
   "source": [
    "## 1.1\n",
    "\n",
    "Consider the following three vectors:\n",
    "\n",
    "A: 5, 8, 7, 6, 8, 4\n",
    "\n",
    "B: 1.3, 2.1, 1.8, 1.2, 1.4, 2.3\n",
    "\n",
    "C: y, y, n, y, n, n\n",
    "\n",
    "___"
   ]
  },
  {
   "cell_type": "markdown",
   "id": "c184fd2e",
   "metadata": {},
   "source": [
    "## Solution 1.1"
   ]
  },
  {
   "cell_type": "markdown",
   "id": "9ccd3134",
   "metadata": {},
   "source": [
    "### Combine the vectors into a data frame with 3 columns and 6 rows."
   ]
  },
  {
   "cell_type": "code",
   "execution_count": 52,
   "id": "417f0036",
   "metadata": {},
   "outputs": [
    {
     "name": "stdout",
     "output_type": "stream",
     "text": [
      "   0    1  2\n",
      "0  5  1.3  y\n",
      "1  8  2.1  y\n",
      "2  7  1.8  n\n",
      "3  6  1.2  y\n",
      "4  8  1.4  n\n",
      "5  4  2.3  n\n"
     ]
    }
   ],
   "source": [
    "# Import needed libraries.\n",
    "import pandas as pd\n",
    "import numpy as np\n",
    "\n",
    "# Create a series of the given vectors.\n",
    "v1 = pd.Series([5, 8, 7, 6, 8, 4])\n",
    "v2 = pd.Series([1.3, 2.1, 1.8, 1.2, 1.4, 2.3])\n",
    "v3 = pd.Series([\"y\", \"y\", \"n\", \"y\", \"n\", \"n\"])\n",
    "\n",
    "# Concatenate the vectors into a DataFrame.\n",
    "va = pd.concat([v1, v2, v3], axis=1)\n",
    "\n",
    "# Print the DataFrame.\n",
    "print(va)"
   ]
  },
  {
   "cell_type": "markdown",
   "id": "c845bd5a",
   "metadata": {},
   "source": [
    "### Print the element (3, 2)."
   ]
  },
  {
   "cell_type": "code",
   "execution_count": 53,
   "id": "075304cb",
   "metadata": {},
   "outputs": [
    {
     "name": "stdout",
     "output_type": "stream",
     "text": [
      "y\n"
     ]
    }
   ],
   "source": [
    "# Print the value in the 4th row and 3rd column.\n",
    "print(va.iloc[3,2])"
   ]
  },
  {
   "cell_type": "markdown",
   "id": "4edb9d05",
   "metadata": {},
   "source": [
    "### Print the 4th row."
   ]
  },
  {
   "cell_type": "code",
   "execution_count": 54,
   "id": "56875c55",
   "metadata": {},
   "outputs": [
    {
     "name": "stdout",
     "output_type": "stream",
     "text": [
      "0      6\n",
      "1    1.2\n",
      "2      y\n",
      "Name: 3, dtype: object\n"
     ]
    }
   ],
   "source": [
    "# Print the value in the 4th row.\n",
    "print(va.iloc[3,])"
   ]
  },
  {
   "cell_type": "markdown",
   "id": "0a2ef45e",
   "metadata": {},
   "source": [
    "### Create a subset that consists of the last two columns and the rows 2 - 5."
   ]
  },
  {
   "cell_type": "code",
   "execution_count": 55,
   "id": "e59bedde",
   "metadata": {},
   "outputs": [
    {
     "name": "stdout",
     "output_type": "stream",
     "text": [
      "     1  2\n",
      "1  2.1  y\n",
      "2  1.8  n\n",
      "3  1.2  y\n",
      "4  1.4  n\n"
     ]
    }
   ],
   "source": [
    "# Print the values in the 2nd to 5th row.\n",
    "subset = va.iloc[1:5, -2:]\n",
    "print(subset)"
   ]
  },
  {
   "cell_type": "markdown",
   "id": "f6715e7b",
   "metadata": {},
   "source": [
    "### Transpose the data frame so that it has 6 columns and 3 rows."
   ]
  },
  {
   "cell_type": "code",
   "execution_count": 56,
   "id": "0131e33c",
   "metadata": {},
   "outputs": [
    {
     "name": "stdout",
     "output_type": "stream",
     "text": [
      "     0    1    2    3    4    5\n",
      "0    5    8    7    6    8    4\n",
      "1  1.3  2.1  1.8  1.2  1.4  2.3\n",
      "2    y    y    n    y    n    n\n"
     ]
    }
   ],
   "source": [
    "# Print the transposed version of the DataFrame.\n",
    "print(va.transpose())"
   ]
  },
  {
   "cell_type": "markdown",
   "id": "1e77bebd",
   "metadata": {},
   "source": [
    "## 1.2 Thyroid Disease\n",
    "\n",
    "• Download the file allbp.data from the Thyroid Disease data set available at https://archive.ics.uci.edu/\n",
    "dataset/102/thyroid+disease.\n",
    "\n",
    "• Load and preprocess the data so that it is ready for analysis. (Check categorical variables, missing values,\n",
    "variable names and so on.) Use the file allbp.names to your advantage.\n",
    "\n",
    "• How many observations and how many variables are there in the data?\n",
    "\n",
    "• Which variables have missing values? How many?\n",
    "\n",
    "___"
   ]
  },
  {
   "cell_type": "markdown",
   "id": "c8a4f560",
   "metadata": {},
   "source": [
    "## Solution 1.2\n",
    "\n",
    "### Download the allbp.data\n",
    "\n",
    "\"allbp.data\" can be found in the directory \"./data\"."
   ]
  },
  {
   "cell_type": "markdown",
   "id": "ae191d1c",
   "metadata": {},
   "source": [
    "### Load the data"
   ]
  },
  {
   "cell_type": "code",
   "execution_count": 79,
   "id": "d88471ca",
   "metadata": {},
   "outputs": [],
   "source": [
    "# Preprocess the data.\n",
    "columns = ['age',\n",
    "            'sex',\n",
    "            'on thyroxine',\n",
    "            'query on thyroxine',\n",
    "            'on antithyroid medication',\n",
    "            'sick',\n",
    "            'pregnant',\n",
    "            'thyroid surgery',\n",
    "            'I131 treatment',\n",
    "            'query hypothyroid',\n",
    "            'query hyperthyroid',\n",
    "            'lithium',\n",
    "            'goitre',\n",
    "            'tumor',\n",
    "            'hypopituitary',\n",
    "            'psych',\n",
    "            'TSH measured',\n",
    "            'TSH',\n",
    "            'T3 measured',\n",
    "            'T3',\n",
    "            'TT4 measured',\n",
    "            'TT4',\n",
    "            'T4U measured',\n",
    "            'T4U',\n",
    "            'FTI measured',\n",
    "            'FTI',\n",
    "            'TBG measured',\n",
    "            'TBG',\n",
    "            'referral source',\n",
    "            'CLASS']\n",
    "categorical_idx = list(range(1, 16)) + [16, 18, 20, 22, 24, 26, 28, 29]\n",
    "quantative_idx = [0, 17, 19, 21, 23, 25, 27]\n",
    "\n",
    "# Load the data from the data directory.\n",
    "data = pd.read_csv(\"data/thyroid-disease/allbp.data\", na_values=['?'], names=columns)"
   ]
  },
  {
   "cell_type": "markdown",
   "id": "693a5017",
   "metadata": {},
   "source": [
    "### Preprocess the data"
   ]
  },
  {
   "cell_type": "code",
   "execution_count": 80,
   "id": "04a0f95c",
   "metadata": {},
   "outputs": [
    {
     "name": "stdout",
     "output_type": "stream",
     "text": [
      "(2800, 30)\n"
     ]
    }
   ],
   "source": [
    "# Remove extra '.' characters at the end of the lines.\n",
    "data.CLASS = data.CLASS.str.split('.', expand=True).iloc[:, 0]\n",
    "\n",
    "# Convert to categorical data.\n",
    "for i in categorical_idx:\n",
    "    name = columns[i]\n",
    "    data[name] = pd.Categorical(data[name])\n",
    "\n",
    "# Print observations and variables.\n",
    "print(data.shape)"
   ]
  },
  {
   "cell_type": "markdown",
   "id": "2f8ed87b",
   "metadata": {},
   "source": [
    "As shown above there are 2800 observations and 30 variables in total."
   ]
  },
  {
   "cell_type": "markdown",
   "id": "23353911",
   "metadata": {},
   "source": [
    "### Calculate all missing values and their count."
   ]
  },
  {
   "cell_type": "code",
   "execution_count": 82,
   "id": "4d8596e5",
   "metadata": {},
   "outputs": [
    {
     "name": "stdout",
     "output_type": "stream",
     "text": [
      "age                             1\n",
      "sex                           110\n",
      "on thyroxine                    0\n",
      "query on thyroxine              0\n",
      "on antithyroid medication       0\n",
      "sick                            0\n",
      "pregnant                        0\n",
      "thyroid surgery                 0\n",
      "I131 treatment                  0\n",
      "query hypothyroid               0\n",
      "query hyperthyroid              0\n",
      "lithium                         0\n",
      "goitre                          0\n",
      "tumor                           0\n",
      "hypopituitary                   0\n",
      "psych                           0\n",
      "TSH measured                    0\n",
      "TSH                           284\n",
      "T3 measured                     0\n",
      "T3                            585\n",
      "TT4 measured                    0\n",
      "TT4                           184\n",
      "T4U measured                    0\n",
      "T4U                           297\n",
      "FTI measured                    0\n",
      "FTI                           295\n",
      "TBG measured                    0\n",
      "TBG                          2800\n",
      "referral source                 0\n",
      "CLASS                           0\n",
      "dtype: int64\n"
     ]
    }
   ],
   "source": [
    "### Calculate all missing values.\n",
    "print(data.isna().sum())"
   ]
  },
  {
   "cell_type": "markdown",
   "id": "81202461",
   "metadata": {},
   "source": [
    "As shown in above, there are one missing value in age column.\n",
    "\n",
    "There are also hundreads or even thousands of missing values in many columns."
   ]
  },
  {
   "cell_type": "markdown",
   "id": "94d9cb70",
   "metadata": {},
   "source": [
    "## 1.3 Thyroid Disease (continued)\n",
    "\n",
    "Continue to analyse the data you prepared in the earlier exercise.\n",
    "\n",
    "• For each variable that has only yes/no values, calculate the number of yes values divided by the number of\n",
    "observations.\n",
    "\n",
    "• For each of the TSH, T3, TT4, T4U, FTI and TBG variables, calculate the sum of the squared values divided\n",
    "by the number of non-NA values.\n",
    "\n",
    "• Calculate the mean ratio (i.e. the mean of ratios) between T3 and TT4\n",
    "\n",
    "___"
   ]
  },
  {
   "cell_type": "markdown",
   "id": "0d6a59bb",
   "metadata": {},
   "source": [
    "## Solution 1.3\n",
    "\n",
    "### Calculate the number of yes values and dive them by observations."
   ]
  },
  {
   "cell_type": "code",
   "execution_count": 84,
   "id": "fd8179f2",
   "metadata": {},
   "outputs": [
    {
     "name": "stdout",
     "output_type": "stream",
     "text": [
      "sex                          0.000000\n",
      "on thyroxine                 0.117857\n",
      "query on thyroxine           0.014286\n",
      "on antithyroid medication    0.012143\n",
      "sick                         0.039286\n",
      "pregnant                     0.014643\n",
      "thyroid surgery              0.013929\n",
      "I131 treatment               0.017143\n",
      "query hypothyroid            0.058214\n",
      "query hyperthyroid           0.061786\n",
      "lithium                      0.005000\n",
      "goitre                       0.008929\n",
      "tumor                        0.025357\n",
      "hypopituitary                0.000357\n",
      "psych                        0.048214\n",
      "TSH measured                 0.898571\n",
      "T3 measured                  0.791071\n",
      "TT4 measured                 0.934286\n",
      "T4U measured                 0.893929\n",
      "FTI measured                 0.894643\n",
      "TBG measured                 0.000000\n",
      "referral source              0.000000\n",
      "CLASS                        0.000000\n",
      "dtype: float64\n"
     ]
    }
   ],
   "source": [
    "counts = (data.iloc[:, categorical_idx] == 't').sum(axis=0)\n",
    "result = counts / data.shape[0]\n",
    "print(result)"
   ]
  },
  {
   "cell_type": "markdown",
   "id": "49ab68fd",
   "metadata": {},
   "source": [
    "### Calculate the sum of the squared values diveded by the number of non-NA values."
   ]
  },
  {
   "cell_type": "code",
   "execution_count": 86,
   "id": "f65b7fbe",
   "metadata": {},
   "outputs": [
    {
     "name": "stdout",
     "output_type": "stream",
     "text": [
      "age     3106.333691\n",
      "TSH      481.725148\n",
      "T3         4.780147\n",
      "TT4    13148.934755\n",
      "T4U        1.033601\n",
      "FTI    13354.902248\n",
      "TBG             NaN\n",
      "dtype: float64\n"
     ]
    }
   ],
   "source": [
    "### Create a new subset of the data.\n",
    "data_subset = data.iloc[:, quantative_idx]\n",
    "\n",
    "### Calculate the sum of the squares of the missing values and divide by the number of non-missing values.\n",
    "result = (data_subset**2).sum(axis=0) / data_subset.notna().sum(axis=0)\n",
    "\n",
    "### Print the result.\n",
    "print(result)"
   ]
  },
  {
   "cell_type": "markdown",
   "id": "2e56a347",
   "metadata": {},
   "source": [
    "### Calculate the mean ratio between T3 and TT4"
   ]
  },
  {
   "cell_type": "code",
   "execution_count": 87,
   "id": "5e3cf933",
   "metadata": {},
   "outputs": [
    {
     "name": "stdout",
     "output_type": "stream",
     "text": [
      "0.019673501919946535\n"
     ]
    }
   ],
   "source": [
    "## Calculate the mean of the ratio of T3 and TT4.\n",
    "result = (data['T3'] / data['TT4']).mean()\n",
    "\n",
    "## Print the result.\n",
    "print(result)"
   ]
  },
  {
   "cell_type": "markdown",
   "id": "4cd41479",
   "metadata": {},
   "source": [
    "# 1.4 Purchases\n",
    "\n",
    "• Load the data available in the file purchases.csv.\n",
    "\n",
    "• Find invalid values in the data and replace them either with a correct value (if possible) or with NaN.\n",
    "\n",
    "• Replace all missing values of the purchases variable with zero.\n",
    "\n",
    "• Use median imputation to fill in all missing values of the retention_time variable.\n",
    "\n",
    "• (BONUS) Group the observations by sex and location before calculating the substitute median(s).\n",
    "\n",
    "___"
   ]
  },
  {
   "cell_type": "markdown",
   "id": "f7d1eed1",
   "metadata": {},
   "source": [
    "## Solution 1.4\n",
    "\n",
    "### Load the data purchases.csv"
   ]
  },
  {
   "cell_type": "code",
   "execution_count": 103,
   "id": "87f2cdd4",
   "metadata": {},
   "outputs": [],
   "source": [
    "# Load the data from the data directory.\n",
    "data = pd.read_csv(\"data/purchases/purchases.csv\", names=columns, skiprows=1)"
   ]
  },
  {
   "cell_type": "markdown",
   "id": "835f7245",
   "metadata": {},
   "source": [
    "### Find invalid values in the data and replace them either with correct value (if possible or with NaN)."
   ]
  },
  {
   "cell_type": "code",
   "execution_count": 116,
   "id": "15aef3da",
   "metadata": {},
   "outputs": [],
   "source": [
    "import numpy as np\n",
    "\n",
    "# Replace wrong sex values with the correct ones.\n",
    "data.loc[data.sex == 'nale', 'sex'] = 'male'\n",
    "\n",
    "# Replace wrong location values with the correct ones.\n",
    "data.loc[data.location == '20100', 'location'] = 'Turku'\n",
    "data.loc[data.location == '33100', 'location'] = 'Tampere'\n",
    "data.loc[data.location == '00100', 'location'] = 'Helsinki'\n",
    "\n",
    "# Replace wrong retention time values with the correct ones.\n",
    "data.loc[data.retention_time < 0, 'retention_time'] = np.nan"
   ]
  },
  {
   "cell_type": "markdown",
   "id": "ab667048",
   "metadata": {},
   "source": [
    "### Replace all missing values of purchases variable with zero."
   ]
  },
  {
   "cell_type": "code",
   "execution_count": 110,
   "id": "80c8bd39",
   "metadata": {},
   "outputs": [],
   "source": [
    "# Replace missing purchase values with the value of zero.\n",
    "data['purchases'] = data['purchases'].fillna(0)"
   ]
  },
  {
   "cell_type": "markdown",
   "id": "21c8b91b",
   "metadata": {},
   "source": [
    "### Use median imputation to fill in all missing values of the retention_time variable."
   ]
  },
  {
   "cell_type": "code",
   "execution_count": 111,
   "id": "2a079849",
   "metadata": {},
   "outputs": [],
   "source": [
    "# Fill missing retention time values with median value of the column.\n",
    "data['retention_time'] = data['retention_time'].fillna(data['retention_time'].median())"
   ]
  },
  {
   "cell_type": "markdown",
   "id": "a3add7d8",
   "metadata": {},
   "source": [
    "### (BONUS) Group the observations by sex and location before calculating the substitute median(s)."
   ]
  },
  {
   "cell_type": "code",
   "execution_count": 115,
   "id": "1cd2ea27",
   "metadata": {},
   "outputs": [],
   "source": [
    "bonus = data.copy()\n",
    "fn = lambda row: row.fillna(row.median())\n",
    "bonus.retention_time = bonus.groupby(['sex', 'location']).retention_time.transform(fn)"
   ]
  }
 ],
 "metadata": {
  "kernelspec": {
   "display_name": "Python 3 (ipykernel)",
   "language": "python",
   "name": "python3"
  },
  "language_info": {
   "codemirror_mode": {
    "name": "ipython",
    "version": 3
   },
   "file_extension": ".py",
   "mimetype": "text/x-python",
   "name": "python",
   "nbconvert_exporter": "python",
   "pygments_lexer": "ipython3",
   "version": "3.12.6"
  }
 },
 "nbformat": 4,
 "nbformat_minor": 5
}
